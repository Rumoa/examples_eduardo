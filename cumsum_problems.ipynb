{
 "cells": [
  {
   "cell_type": "code",
   "execution_count": 1,
   "metadata": {},
   "outputs": [],
   "source": [
    "import jax\n",
    "import jax.numpy as jnp\n",
    "import numpy as np"
   ]
  },
  {
   "cell_type": "code",
   "execution_count": 2,
   "metadata": {},
   "outputs": [],
   "source": [
    "tau = 0.7\n",
    "t = 10"
   ]
  },
  {
   "cell_type": "code",
   "execution_count": 74,
   "metadata": {},
   "outputs": [
    {
     "data": {
      "text/plain": [
       "Array([1., 1., 1., 1., 1., 1., 1., 1., 1., 1., 1., 1., 1., 1., 1., 1., 1.,\n",
       "       1., 1., 1.], dtype=float32)"
      ]
     },
     "execution_count": 74,
     "metadata": {},
     "output_type": "execute_result"
    }
   ],
   "source": [
    "jnp.ones(20)"
   ]
  },
  {
   "cell_type": "code",
   "execution_count": 115,
   "metadata": {},
   "outputs": [],
   "source": [
    "# @jax.jit\n",
    "def this_function(tau, t, ones_array):\n",
    "    ejemplo = jnp.where(\n",
    "        jnp.cumsum(tau * ones_array)\n",
    "        < tau * (lambda tau, t: jnp.floor(t / tau))(tau, t),\n",
    "        tau * ones_array,\n",
    "        0 * ones_array,\n",
    "    )\n",
    "    print(ejemplo)\n",
    "\n",
    "    ejemplo2 = jnp.where(\n",
    "        jnp.cumsum(tau * ones_array)\n",
    "        <= tau * (lambda tau, t: jnp.ceil(t / tau))(tau, t),\n",
    "        tau * ones_array,\n",
    "        0 * ones_array,\n",
    "    )\n",
    "    print(ejemplo2)\n",
    "\n",
    "    remainder = t - jnp.cumsum(ejemplo)[-1]\n",
    "    return jnp.where(\n",
    "        ((ejemplo2)) != ((ejemplo)),\n",
    "        remainder * jnp.ones(ejemplo.shape),\n",
    "        ejemplo,\n",
    "    )"
   ]
  },
  {
   "cell_type": "code",
   "execution_count": 145,
   "metadata": {},
   "outputs": [
    {
     "data": {
      "text/plain": [
       "Array(14., dtype=float32, weak_type=True)"
      ]
     },
     "execution_count": 145,
     "metadata": {},
     "output_type": "execute_result"
    }
   ],
   "source": [
    "(lambda tau, t: jnp.floor(t / tau))(0.7, t)"
   ]
  },
  {
   "cell_type": "code",
   "execution_count": 146,
   "metadata": {},
   "outputs": [
    {
     "data": {
      "text/plain": [
       "14.285714285714286"
      ]
     },
     "execution_count": 146,
     "metadata": {},
     "output_type": "execute_result"
    }
   ],
   "source": [
    "t/0.7"
   ]
  },
  {
   "cell_type": "code",
   "execution_count": 142,
   "metadata": {},
   "outputs": [
    {
     "name": "stdout",
     "output_type": "stream",
     "text": [
      "[0.8 0.8 0.8 0.8 0.8 0.8 0.8 0.8 0.8 0.8 0.8 0.  0.  0.  0.  0.  0.  0.\n",
      " 0.  0. ]\n",
      "[0.8 0.8 0.8 0.8 0.8 0.8 0.8 0.8 0.8 0.8 0.8 0.8 0.  0.  0.  0.  0.  0.\n",
      " 0.  0. ]\n"
     ]
    },
    {
     "data": {
      "text/plain": [
       "Array(0.39999866, dtype=float32)"
      ]
     },
     "execution_count": 142,
     "metadata": {},
     "output_type": "execute_result"
    }
   ],
   "source": [
    "ones_array  = jnp.ones(20)\n",
    "tau = 0.8\n",
    "t = 10\n",
    "\n",
    "ejemplo = jnp.where(\n",
    "        jnp.cumsum(tau * ones_array)\n",
    "        <=  (lambda tau, t:  tau*jnp.floor(t / tau))(tau, t),\n",
    "        tau * ones_array,\n",
    "        0 * ones_array,\n",
    "    )\n",
    "\n",
    "print(ejemplo)\n",
    "\n",
    "\n",
    "ejemplo2 = jnp.where(\n",
    "        jnp.cumsum(tau * ones_array)\n",
    "        <=  (lambda tau, t: tau *jnp.ceil(t / tau))(tau, t),\n",
    "        tau * ones_array,\n",
    "        0 * ones_array,\n",
    "    )\n",
    "print(ejemplo2)\n",
    "\n",
    "remainder = t - jnp.cumsum(ejemplo2)[-1]\n",
    "remainder"
   ]
  },
  {
   "cell_type": "code",
   "execution_count": 116,
   "metadata": {},
   "outputs": [
    {
     "name": "stdout",
     "output_type": "stream",
     "text": [
      "[0.7 0.7 0.7 0.7 0.7 0.7 0.7 0.7 0.7 0.7 0.7 0.7 0.7 0.7 0.  0.  0.  0.\n",
      " 0.  0. ]\n",
      "[0.7 0.7 0.7 0.7 0.7 0.7 0.7 0.7 0.7 0.7 0.7 0.7 0.7 0.7 0.7 0.  0.  0.\n",
      " 0.  0. ]\n",
      "[0.8 0.8 0.8 0.8 0.8 0.8 0.8 0.8 0.8 0.8 0.8 0.  0.  0.  0.  0.  0.  0.\n",
      " 0.  0. ]\n",
      "[0.8 0.8 0.8 0.8 0.8 0.8 0.8 0.8 0.8 0.8 0.8 0.8 0.  0.  0.  0.  0.  0.\n",
      " 0.  0. ]\n"
     ]
    }
   ],
   "source": [
    "times_array_1 = this_function(0.7, 10, jnp.ones(20))\n",
    "times_array_2 = this_function(0.8, 10, jnp.ones(20))\n"
   ]
  },
  {
   "cell_type": "code",
   "execution_count": 113,
   "metadata": {},
   "outputs": [
    {
     "data": {
      "text/plain": [
       "Array(10., dtype=float32)"
      ]
     },
     "execution_count": 113,
     "metadata": {},
     "output_type": "execute_result"
    }
   ],
   "source": [
    "jnp.sum(times_array_2)"
   ]
  },
  {
   "cell_type": "code",
   "execution_count": 114,
   "metadata": {},
   "outputs": [
    {
     "data": {
      "text/plain": [
       "Array([0.8      , 0.8      , 0.8      , 0.8      , 0.8      , 0.8      ,\n",
       "       0.8      , 0.8      , 0.8      , 0.8      , 0.8      , 1.1999989,\n",
       "       0.       , 0.       , 0.       , 0.       , 0.       , 0.       ,\n",
       "       0.       , 0.       ], dtype=float32)"
      ]
     },
     "execution_count": 114,
     "metadata": {},
     "output_type": "execute_result"
    }
   ],
   "source": [
    "times_array_2"
   ]
  },
  {
   "cell_type": "code",
   "execution_count": null,
   "metadata": {},
   "outputs": [],
   "source": []
  },
  {
   "cell_type": "code",
   "execution_count": 95,
   "metadata": {},
   "outputs": [],
   "source": [
    "ham_array = jnp.array([np.random.rand(2,2) for _ in range(20)])"
   ]
  },
  {
   "cell_type": "code",
   "execution_count": 96,
   "metadata": {},
   "outputs": [
    {
     "name": "stdout",
     "output_type": "stream",
     "text": [
      "(20,)\n",
      "(20, 2, 2)\n"
     ]
    }
   ],
   "source": [
    "print(times_array.shape)\n",
    "print(ham_array.shape)"
   ]
  },
  {
   "cell_type": "code",
   "execution_count": 97,
   "metadata": {},
   "outputs": [
    {
     "data": {
      "text/plain": [
       "Array([[5.5536876, 2.849744 ],\n",
       "       [5.331116 , 5.147647 ]], dtype=float32)"
      ]
     },
     "execution_count": 97,
     "metadata": {},
     "output_type": "execute_result"
    }
   ],
   "source": [
    "jnp.einsum(\"i, ijk-> jk\", times_array, ham_array)"
   ]
  },
  {
   "cell_type": "code",
   "execution_count": 39,
   "metadata": {},
   "outputs": [
    {
     "data": {
      "text/plain": [
       "Array([0.7, 0.7, 0.7, 0.7, 0.7, 0.7, 0.7, 0.7, 0.7, 0.7, 0.7, 0.7, 0.7,\n",
       "       0.7, 0. , 0. , 0. , 0. , 0. , 0. ], dtype=float32)"
      ]
     },
     "execution_count": 39,
     "metadata": {},
     "output_type": "execute_result"
    }
   ],
   "source": [
    "ejemplo = jnp.where(\n",
    "    jnp.cumsum(tau * jnp.ones(20))\n",
    "    <= tau * (lambda tau, t: jnp.floor(t / tau))(tau, t),\n",
    "    tau * jnp.ones(20),\n",
    "    0 * jnp.ones(20),\n",
    ")\n",
    "ejemplo"
   ]
  },
  {
   "cell_type": "code",
   "execution_count": 15,
   "metadata": {},
   "outputs": [
    {
     "data": {
      "text/plain": [
       "Array(0.20000172, dtype=float32)"
      ]
     },
     "execution_count": 15,
     "metadata": {},
     "output_type": "execute_result"
    }
   ],
   "source": [
    "remainder = t - jnp.cumsum(ejemplo)[-1]\n",
    "remainder"
   ]
  },
  {
   "cell_type": "code",
   "execution_count": 40,
   "metadata": {},
   "outputs": [
    {
     "data": {
      "text/plain": [
       "Array([0.7, 0.7, 0.7, 0.7, 0.7, 0.7, 0.7, 0.7, 0.7, 0.7, 0.7, 0.7, 0.7,\n",
       "       0.7, 0.7, 0. , 0. , 0. , 0. , 0. ], dtype=float32)"
      ]
     },
     "execution_count": 40,
     "metadata": {},
     "output_type": "execute_result"
    }
   ],
   "source": [
    "ejemplo2 = jnp.where(\n",
    "    jnp.cumsum(tau * jnp.ones(20))\n",
    "    <= tau * (lambda tau, t: jnp.ceil(t / tau))(tau, t),\n",
    "    tau * jnp.ones(20),\n",
    "    0 * jnp.ones(20),\n",
    ")\n",
    "ejemplo2"
   ]
  },
  {
   "cell_type": "code",
   "execution_count": null,
   "metadata": {},
   "outputs": [],
   "source": []
  },
  {
   "cell_type": "code",
   "execution_count": 69,
   "metadata": {},
   "outputs": [
    {
     "data": {
      "text/plain": [
       "Array([0.7       , 0.7       , 0.7       , 0.7       , 0.7       ,\n",
       "       0.7       , 0.7       , 0.7       , 0.7       , 0.7       ,\n",
       "       0.7       , 0.7       , 0.7       , 0.7       , 0.20000172,\n",
       "       0.        , 0.        , 0.        , 0.        , 0.        ],      dtype=float32)"
      ]
     },
     "execution_count": 69,
     "metadata": {},
     "output_type": "execute_result"
    }
   ],
   "source": [
    "jnp.where(((ejemplo2)) != ((ejemplo)), remainder*jnp.ones(ejemplo.shape), ejemplo)"
   ]
  }
 ],
 "metadata": {
  "kernelspec": {
   "display_name": "jax_qdots",
   "language": "python",
   "name": "python3"
  },
  "language_info": {
   "codemirror_mode": {
    "name": "ipython",
    "version": 3
   },
   "file_extension": ".py",
   "mimetype": "text/x-python",
   "name": "python",
   "nbconvert_exporter": "python",
   "pygments_lexer": "ipython3",
   "version": "3.12.1"
  }
 },
 "nbformat": 4,
 "nbformat_minor": 2
}
